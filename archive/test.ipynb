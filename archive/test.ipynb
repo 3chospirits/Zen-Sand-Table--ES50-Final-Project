{
 "cells": [
  {
   "cell_type": "code",
   "execution_count": 1,
   "metadata": {},
   "outputs": [],
   "source": [
    "import turtle\n",
    "from tqdm import tqdm\n",
    "\n"
   ]
  },
  {
   "cell_type": "code",
   "execution_count": 11,
   "metadata": {},
   "outputs": [
    {
     "name": "stderr",
     "output_type": "stream",
     "text": [
      "edges: 100%|██████████| 25/25 [00:00<00:00, 96642.95it/s]\n"
     ]
    }
   ],
   "source": [
    "\n",
    "\n",
    "instructions = [(0,0)]\n",
    "current_coords = (0,0)\n",
    "edge_length = 200\n",
    "inc = 100\n",
    "#0,1,2,3 directions\n",
    "# up, right, down, left\n",
    "direction = 0\n",
    "\n",
    "\n",
    "for i in tqdm(range(0,25), desc=\"edges\"):\n",
    "    edge_length += inc\n",
    "\n",
    "    if (direction == 0):\n",
    "        current_coords = (current_coords[0], current_coords[1] + edge_length)\n",
    "        direction += 1\n",
    "    elif (direction == 1):\n",
    "        current_coords = (current_coords[0] + edge_length, current_coords[1])\n",
    "        direction += 1\n",
    "    elif (direction == 2):\n",
    "        current_coords = (current_coords[0], current_coords[1] - edge_length)\n",
    "        direction += 1\n",
    "    elif (direction == 3):\n",
    "        current_coords = (current_coords[0] - edge_length, current_coords[1])\n",
    "        direction = 0\n",
    "\n",
    "    instructions.append(current_coords)\n",
    "\n",
    "# save into csv\n",
    "with open(\"spiral.csv\", \"w\") as f:\n",
    "    for x, y in instructions:\n",
    "        f.write(f\"{x}, {y}\\n\")"
   ]
  },
  {
   "cell_type": "code",
   "execution_count": 10,
   "metadata": {},
   "outputs": [
    {
     "data": {
      "text/plain": [
       "[(0, 0),\n",
       " (0, 300),\n",
       " (400, 300),\n",
       " (400, -200),\n",
       " (-200, -200),\n",
       " (-200, 500),\n",
       " (600, 500),\n",
       " (600, -400),\n",
       " (-400, -400),\n",
       " (-400, 700),\n",
       " (800, 700),\n",
       " (800, -600),\n",
       " (-600, -600),\n",
       " (-600, 900),\n",
       " (1000, 900),\n",
       " (1000, -800),\n",
       " (-800, -800),\n",
       " (-800, 1100),\n",
       " (1200, 1100),\n",
       " (1200, -1000),\n",
       " (-1000, -1000),\n",
       " (-1000, 1300),\n",
       " (1400, 1300),\n",
       " (1400, -1200),\n",
       " (-1200, -1200),\n",
       " (-1200, 1500)]"
      ]
     },
     "execution_count": 10,
     "metadata": {},
     "output_type": "execute_result"
    }
   ],
   "source": [
    "instructions"
   ]
  },
  {
   "cell_type": "code",
   "execution_count": 3,
   "metadata": {},
   "outputs": [],
   "source": [
    "import csv\n",
    "\n",
    "# set initial position to (0,0)\n",
    "x, y = 0, 0\n",
    "\n",
    "# set initial edge length to 20\n",
    "edge_length = 20\n",
    "\n",
    "# set initial direction to right\n",
    "direction = 'right'\n",
    "\n",
    "# set edge counter to 0\n",
    "edge_count = 0\n",
    "\n",
    "# create a list to hold the coordinates\n",
    "coordinates = []\n",
    "\n",
    "# loop until 100 edges are drawn\n",
    "while edge_count < 100:\n",
    "    # add current position to coordinates list\n",
    "    coordinates.append((x, y))\n",
    "\n",
    "    # determine the next position based on the current direction\n",
    "    if direction == 'right':\n",
    "        x += edge_length\n",
    "    elif direction == 'down':\n",
    "        y += edge_length\n",
    "    elif direction == 'left':\n",
    "        x -= edge_length\n",
    "    elif direction == 'up':\n",
    "        y -= edge_length\n",
    "\n",
    "    # update direction and edge length\n",
    "    if edge_count % 4 == 1:\n",
    "        direction = 'down'\n",
    "    elif edge_count % 4 == 3:\n",
    "        direction = 'up'\n",
    "        edge_length += 20\n",
    "    elif edge_count % 4 == 2:\n",
    "        direction = 'left'\n",
    "    edge_count += 1\n",
    "\n",
    "# write coordinates to CSV file\n",
    "with open('spiral.csv', 'w', newline='') as csvfile:\n",
    "    writer = csv.writer(csvfile)\n",
    "    writer.writerow(['x', 'y'])\n",
    "    for coordinate in coordinates:\n",
    "        writer.writerow([coordinate[0], coordinate[1]])\n"
   ]
  },
  {
   "cell_type": "code",
   "execution_count": 4,
   "metadata": {},
   "outputs": [
    {
     "name": "stderr",
     "output_type": "stream",
     "text": [
      "Drawing spiral:  55%|█████▌    | 265/480 [00:25<00:20, 10.25it/s]\n"
     ]
    },
    {
     "ename": "KeyboardInterrupt",
     "evalue": "",
     "output_type": "error",
     "traceback": [
      "\u001b[0;31m---------------------------------------------------------------------------\u001b[0m",
      "\u001b[0;31mKeyboardInterrupt\u001b[0m                         Traceback (most recent call last)",
      "\u001b[0;32m<ipython-input-4-e7a6d0529d2d>\u001b[0m in \u001b[0;36m<module>\u001b[0;34m\u001b[0m\n\u001b[1;32m     33\u001b[0m \u001b[0msize\u001b[0m \u001b[0;34m=\u001b[0m \u001b[0;36m19400\u001b[0m\u001b[0;34m\u001b[0m\u001b[0;34m\u001b[0m\u001b[0m\n\u001b[1;32m     34\u001b[0m \u001b[0mborder\u001b[0m \u001b[0;34m=\u001b[0m \u001b[0;36m100\u001b[0m\u001b[0;34m\u001b[0m\u001b[0;34m\u001b[0m\u001b[0m\n\u001b[0;32m---> 35\u001b[0;31m \u001b[0minstructions\u001b[0m \u001b[0;34m=\u001b[0m \u001b[0mdraw_spiral\u001b[0m\u001b[0;34m(\u001b[0m\u001b[0msize\u001b[0m\u001b[0;34m,\u001b[0m \u001b[0mborder\u001b[0m\u001b[0;34m)\u001b[0m\u001b[0;34m\u001b[0m\u001b[0;34m\u001b[0m\u001b[0m\n\u001b[0m\u001b[1;32m     36\u001b[0m \u001b[0mprint\u001b[0m\u001b[0;34m(\u001b[0m\u001b[0minstructions\u001b[0m\u001b[0;34m)\u001b[0m\u001b[0;34m\u001b[0m\u001b[0;34m\u001b[0m\u001b[0m\n",
      "\u001b[0;32m<ipython-input-4-e7a6d0529d2d>\u001b[0m in \u001b[0;36mdraw_spiral\u001b[0;34m(size, border)\u001b[0m\n\u001b[1;32m     19\u001b[0m         \u001b[0mpen\u001b[0m\u001b[0;34m.\u001b[0m\u001b[0mforward\u001b[0m\u001b[0;34m(\u001b[0m\u001b[0mdistance\u001b[0m\u001b[0;34m)\u001b[0m\u001b[0;34m\u001b[0m\u001b[0;34m\u001b[0m\u001b[0m\n\u001b[1;32m     20\u001b[0m         \u001b[0mpen\u001b[0m\u001b[0;34m.\u001b[0m\u001b[0mright\u001b[0m\u001b[0;34m(\u001b[0m\u001b[0mangle\u001b[0m\u001b[0;34m)\u001b[0m\u001b[0;34m\u001b[0m\u001b[0;34m\u001b[0m\u001b[0m\n\u001b[0;32m---> 21\u001b[0;31m         \u001b[0mpen\u001b[0m\u001b[0;34m.\u001b[0m\u001b[0mforward\u001b[0m\u001b[0;34m(\u001b[0m\u001b[0mdistance\u001b[0m\u001b[0;34m)\u001b[0m\u001b[0;34m\u001b[0m\u001b[0;34m\u001b[0m\u001b[0m\n\u001b[0m\u001b[1;32m     22\u001b[0m         \u001b[0mpen\u001b[0m\u001b[0;34m.\u001b[0m\u001b[0mright\u001b[0m\u001b[0;34m(\u001b[0m\u001b[0mangle\u001b[0m\u001b[0;34m)\u001b[0m\u001b[0;34m\u001b[0m\u001b[0;34m\u001b[0m\u001b[0m\n\u001b[1;32m     23\u001b[0m \u001b[0;34m\u001b[0m\u001b[0m\n",
      "\u001b[0;32m/usr/local/anaconda3/lib/python3.8/turtle.py\u001b[0m in \u001b[0;36mforward\u001b[0;34m(self, distance)\u001b[0m\n\u001b[1;32m   1636\u001b[0m         \u001b[0;34m(\u001b[0m\u001b[0;34m-\u001b[0m\u001b[0;36m50.00\u001b[0m\u001b[0;34m,\u001b[0m\u001b[0;36m0.00\u001b[0m\u001b[0;34m)\u001b[0m\u001b[0;34m\u001b[0m\u001b[0;34m\u001b[0m\u001b[0m\n\u001b[1;32m   1637\u001b[0m         \"\"\"\n\u001b[0;32m-> 1638\u001b[0;31m         \u001b[0mself\u001b[0m\u001b[0;34m.\u001b[0m\u001b[0m_go\u001b[0m\u001b[0;34m(\u001b[0m\u001b[0mdistance\u001b[0m\u001b[0;34m)\u001b[0m\u001b[0;34m\u001b[0m\u001b[0;34m\u001b[0m\u001b[0m\n\u001b[0m\u001b[1;32m   1639\u001b[0m \u001b[0;34m\u001b[0m\u001b[0m\n\u001b[1;32m   1640\u001b[0m     \u001b[0;32mdef\u001b[0m \u001b[0mback\u001b[0m\u001b[0;34m(\u001b[0m\u001b[0mself\u001b[0m\u001b[0;34m,\u001b[0m \u001b[0mdistance\u001b[0m\u001b[0;34m)\u001b[0m\u001b[0;34m:\u001b[0m\u001b[0;34m\u001b[0m\u001b[0;34m\u001b[0m\u001b[0m\n",
      "\u001b[0;32m/usr/local/anaconda3/lib/python3.8/turtle.py\u001b[0m in \u001b[0;36m_go\u001b[0;34m(self, distance)\u001b[0m\n\u001b[1;32m   1604\u001b[0m         \u001b[0;34m\"\"\"move turtle forward by specified distance\"\"\"\u001b[0m\u001b[0;34m\u001b[0m\u001b[0;34m\u001b[0m\u001b[0m\n\u001b[1;32m   1605\u001b[0m         \u001b[0mende\u001b[0m \u001b[0;34m=\u001b[0m \u001b[0mself\u001b[0m\u001b[0;34m.\u001b[0m\u001b[0m_position\u001b[0m \u001b[0;34m+\u001b[0m \u001b[0mself\u001b[0m\u001b[0;34m.\u001b[0m\u001b[0m_orient\u001b[0m \u001b[0;34m*\u001b[0m \u001b[0mdistance\u001b[0m\u001b[0;34m\u001b[0m\u001b[0;34m\u001b[0m\u001b[0m\n\u001b[0;32m-> 1606\u001b[0;31m         \u001b[0mself\u001b[0m\u001b[0;34m.\u001b[0m\u001b[0m_goto\u001b[0m\u001b[0;34m(\u001b[0m\u001b[0mende\u001b[0m\u001b[0;34m)\u001b[0m\u001b[0;34m\u001b[0m\u001b[0;34m\u001b[0m\u001b[0m\n\u001b[0m\u001b[1;32m   1607\u001b[0m \u001b[0;34m\u001b[0m\u001b[0m\n\u001b[1;32m   1608\u001b[0m     \u001b[0;32mdef\u001b[0m \u001b[0m_rotate\u001b[0m\u001b[0;34m(\u001b[0m\u001b[0mself\u001b[0m\u001b[0;34m,\u001b[0m \u001b[0mangle\u001b[0m\u001b[0;34m)\u001b[0m\u001b[0;34m:\u001b[0m\u001b[0;34m\u001b[0m\u001b[0;34m\u001b[0m\u001b[0m\n",
      "\u001b[0;32m/usr/local/anaconda3/lib/python3.8/turtle.py\u001b[0m in \u001b[0;36m_goto\u001b[0;34m(self, end)\u001b[0m\n\u001b[1;32m   3194\u001b[0m                                        \u001b[0;31m# of life, the universe and everything\u001b[0m\u001b[0;34m\u001b[0m\u001b[0;34m\u001b[0m\u001b[0;34m\u001b[0m\u001b[0m\n\u001b[1;32m   3195\u001b[0m             \u001b[0mself\u001b[0m\u001b[0;34m.\u001b[0m\u001b[0m_newLine\u001b[0m\u001b[0;34m(\u001b[0m\u001b[0;34m)\u001b[0m\u001b[0;34m\u001b[0m\u001b[0;34m\u001b[0m\u001b[0m\n\u001b[0;32m-> 3196\u001b[0;31m         \u001b[0mself\u001b[0m\u001b[0;34m.\u001b[0m\u001b[0m_update\u001b[0m\u001b[0;34m(\u001b[0m\u001b[0;34m)\u001b[0m \u001b[0;31m#count=True)\u001b[0m\u001b[0;34m\u001b[0m\u001b[0;34m\u001b[0m\u001b[0m\n\u001b[0m\u001b[1;32m   3197\u001b[0m \u001b[0;34m\u001b[0m\u001b[0m\n\u001b[1;32m   3198\u001b[0m     \u001b[0;32mdef\u001b[0m \u001b[0m_undogoto\u001b[0m\u001b[0;34m(\u001b[0m\u001b[0mself\u001b[0m\u001b[0;34m,\u001b[0m \u001b[0mentry\u001b[0m\u001b[0;34m)\u001b[0m\u001b[0;34m:\u001b[0m\u001b[0;34m\u001b[0m\u001b[0;34m\u001b[0m\u001b[0m\n",
      "\u001b[0;32m/usr/local/anaconda3/lib/python3.8/turtle.py\u001b[0m in \u001b[0;36m_update\u001b[0;34m(self)\u001b[0m\n\u001b[1;32m   2661\u001b[0m             \u001b[0mself\u001b[0m\u001b[0;34m.\u001b[0m\u001b[0m_update_data\u001b[0m\u001b[0;34m(\u001b[0m\u001b[0;34m)\u001b[0m\u001b[0;34m\u001b[0m\u001b[0;34m\u001b[0m\u001b[0m\n\u001b[1;32m   2662\u001b[0m             \u001b[0mself\u001b[0m\u001b[0;34m.\u001b[0m\u001b[0m_drawturtle\u001b[0m\u001b[0;34m(\u001b[0m\u001b[0;34m)\u001b[0m\u001b[0;34m\u001b[0m\u001b[0;34m\u001b[0m\u001b[0m\n\u001b[0;32m-> 2663\u001b[0;31m             \u001b[0mscreen\u001b[0m\u001b[0;34m.\u001b[0m\u001b[0m_update\u001b[0m\u001b[0;34m(\u001b[0m\u001b[0;34m)\u001b[0m                  \u001b[0;31m# TurtleScreenBase\u001b[0m\u001b[0;34m\u001b[0m\u001b[0;34m\u001b[0m\u001b[0m\n\u001b[0m\u001b[1;32m   2664\u001b[0m             \u001b[0mscreen\u001b[0m\u001b[0;34m.\u001b[0m\u001b[0m_delay\u001b[0m\u001b[0;34m(\u001b[0m\u001b[0mscreen\u001b[0m\u001b[0;34m.\u001b[0m\u001b[0m_delayvalue\u001b[0m\u001b[0;34m)\u001b[0m \u001b[0;31m# TurtleScreenBase\u001b[0m\u001b[0;34m\u001b[0m\u001b[0;34m\u001b[0m\u001b[0m\n\u001b[1;32m   2665\u001b[0m         \u001b[0;32melse\u001b[0m\u001b[0;34m:\u001b[0m\u001b[0;34m\u001b[0m\u001b[0;34m\u001b[0m\u001b[0m\n",
      "\u001b[0;32m/usr/local/anaconda3/lib/python3.8/turtle.py\u001b[0m in \u001b[0;36m_update\u001b[0;34m(self)\u001b[0m\n\u001b[1;32m    561\u001b[0m         \"\"\"Redraw graphics items on canvas\n\u001b[1;32m    562\u001b[0m         \"\"\"\n\u001b[0;32m--> 563\u001b[0;31m         \u001b[0mself\u001b[0m\u001b[0;34m.\u001b[0m\u001b[0mcv\u001b[0m\u001b[0;34m.\u001b[0m\u001b[0mupdate\u001b[0m\u001b[0;34m(\u001b[0m\u001b[0;34m)\u001b[0m\u001b[0;34m\u001b[0m\u001b[0;34m\u001b[0m\u001b[0m\n\u001b[0m\u001b[1;32m    564\u001b[0m \u001b[0;34m\u001b[0m\u001b[0m\n\u001b[1;32m    565\u001b[0m     \u001b[0;32mdef\u001b[0m \u001b[0m_delay\u001b[0m\u001b[0;34m(\u001b[0m\u001b[0mself\u001b[0m\u001b[0;34m,\u001b[0m \u001b[0mdelay\u001b[0m\u001b[0;34m)\u001b[0m\u001b[0;34m:\u001b[0m\u001b[0;34m\u001b[0m\u001b[0;34m\u001b[0m\u001b[0m\n",
      "\u001b[0;32m/usr/local/anaconda3/lib/python3.8/tkinter/__init__.py\u001b[0m in \u001b[0;36mupdate\u001b[0;34m(self)\u001b[0m\n\u001b[1;32m   1312\u001b[0m     \u001b[0;32mdef\u001b[0m \u001b[0mupdate\u001b[0m\u001b[0;34m(\u001b[0m\u001b[0mself\u001b[0m\u001b[0;34m)\u001b[0m\u001b[0;34m:\u001b[0m\u001b[0;34m\u001b[0m\u001b[0;34m\u001b[0m\u001b[0m\n\u001b[1;32m   1313\u001b[0m         \u001b[0;34m\"\"\"Enter event loop until all pending events have been processed by Tcl.\"\"\"\u001b[0m\u001b[0;34m\u001b[0m\u001b[0;34m\u001b[0m\u001b[0m\n\u001b[0;32m-> 1314\u001b[0;31m         \u001b[0mself\u001b[0m\u001b[0;34m.\u001b[0m\u001b[0mtk\u001b[0m\u001b[0;34m.\u001b[0m\u001b[0mcall\u001b[0m\u001b[0;34m(\u001b[0m\u001b[0;34m'update'\u001b[0m\u001b[0;34m)\u001b[0m\u001b[0;34m\u001b[0m\u001b[0;34m\u001b[0m\u001b[0m\n\u001b[0m\u001b[1;32m   1315\u001b[0m \u001b[0;34m\u001b[0m\u001b[0m\n\u001b[1;32m   1316\u001b[0m     \u001b[0;32mdef\u001b[0m \u001b[0mupdate_idletasks\u001b[0m\u001b[0;34m(\u001b[0m\u001b[0mself\u001b[0m\u001b[0;34m)\u001b[0m\u001b[0;34m:\u001b[0m\u001b[0;34m\u001b[0m\u001b[0;34m\u001b[0m\u001b[0m\n",
      "\u001b[0;31mKeyboardInterrupt\u001b[0m: "
     ]
    }
   ],
   "source": [
    "def draw_spiral(size, border):\n",
    "    instructions = []\n",
    "    \n",
    "    # Set up the turtle screen\n",
    "    screen = turtle.Screen()\n",
    "    screen.setup(width=size, height=size)\n",
    "\n",
    "    # Configure turtle settings\n",
    "    pen = turtle.Turtle()\n",
    "    pen.speed(0)\n",
    "    pen.penup()\n",
    "\n",
    "    # Calculate the maximum distance the turtle can travel\n",
    "    max_distance = (size - 2 * border) // 2\n",
    "    angle = 90\n",
    "\n",
    "    # Draw the spiral\n",
    "    for distance in tqdm(range(1, max_distance + 1, 20), desc=\"Drawing spiral\"):\n",
    "        pen.forward(distance)\n",
    "        pen.right(angle)\n",
    "        pen.forward(distance)\n",
    "        pen.right(angle)\n",
    "\n",
    "        # Save the x, y coordinates to the instructions list\n",
    "        instructions.append((round(pen.xcor()), round(pen.ycor())))\n",
    "\n",
    "    # Hide the turtle and display the spiral\n",
    "    # pen.hideturtle()\n",
    "    # screen.mainloop()\n",
    "\n",
    "    return instructions\n",
    "\n",
    "size = 19400\n",
    "border = 100\n",
    "instructions = draw_spiral(size, border)\n",
    "print(instructions)\n"
   ]
  },
  {
   "cell_type": "code",
   "execution_count": 17,
   "metadata": {},
   "outputs": [
    {
     "data": {
      "text/plain": [
       "480"
      ]
     },
     "execution_count": 17,
     "metadata": {},
     "output_type": "execute_result"
    }
   ],
   "source": [
    "len(instructions)"
   ]
  },
  {
   "cell_type": "code",
   "execution_count": 18,
   "metadata": {},
   "outputs": [
    {
     "name": "stdout",
     "output_type": "stream",
     "text": [
      "[(1, -1), (-20, 20), (21, -21), (-40, 40), (41, -41), (-60, 60), (61, -61), (-80, 80), (81, -81), (-100, 100), (101, -101), (-120, 120), (121, -121), (-140, 140), (141, -141), (-160, 160), (161, -161), (-180, 180), (181, -181), (-200, 200), (201, -201), (-220, 220), (221, -221), (-240, 240), (241, -241), (-260, 260), (261, -261), (-280, 280), (281, -281), (-300, 300), (301, -301), (-320, 320), (321, -321), (-340, 340), (341, -341), (-360, 360), (361, -361), (-380, 380), (381, -381), (-400, 400), (401, -401), (-420, 420), (421, -421), (-440, 440), (441, -441), (-460, 460), (461, -461), (-480, 480), (481, -481), (-500, 500), (501, -501), (-520, 520), (521, -521), (-540, 540), (541, -541), (-560, 560), (561, -561), (-580, 580), (581, -581), (-600, 600), (601, -601), (-620, 620), (621, -621), (-640, 640), (641, -641), (-660, 660), (661, -661), (-680, 680), (681, -681), (-700, 700), (701, -701), (-720, 720), (721, -721), (-740, 740), (741, -741), (-760, 760), (761, -761), (-780, 780), (781, -781), (-800, 800), (801, -801), (-820, 820), (821, -821), (-840, 840), (841, -841), (-860, 860), (861, -861), (-880, 880), (881, -881), (-900, 900), (901, -901), (-920, 920), (921, -921), (-940, 940), (941, -941), (-960, 960), (961, -961), (-980, 980), (981, -981), (-1000, 1000), (1001, -1001), (-1020, 1020), (1021, -1021), (-1040, 1040), (1041, -1041), (-1060, 1060), (1061, -1061), (-1080, 1080), (1081, -1081), (-1100, 1100), (1101, -1101), (-1120, 1120), (1121, -1121), (-1140, 1140), (1141, -1141), (-1160, 1160), (1161, -1161), (-1180, 1180), (1181, -1181), (-1200, 1200), (1201, -1201), (-1220, 1220), (1221, -1221), (-1240, 1240), (1241, -1241), (-1260, 1260), (1261, -1261), (-1280, 1280), (1281, -1281), (-1300, 1300), (1301, -1301), (-1320, 1320), (1321, -1321), (-1340, 1340), (1341, -1341), (-1360, 1360), (1361, -1361), (-1380, 1380), (1381, -1381), (-1400, 1400), (1401, -1401), (-1420, 1420), (1421, -1421), (-1440, 1440), (1441, -1441), (-1460, 1460), (1461, -1461), (-1480, 1480), (1481, -1481), (-1500, 1500), (1501, -1501), (-1520, 1520), (1521, -1521), (-1540, 1540), (1541, -1541), (-1560, 1560), (1561, -1561), (-1580, 1580), (1581, -1581), (-1600, 1600), (1601, -1601), (-1620, 1620), (1621, -1621), (-1640, 1640), (1641, -1641), (-1660, 1660), (1661, -1661), (-1680, 1680), (1681, -1681), (-1700, 1700), (1701, -1701), (-1720, 1720), (1721, -1721), (-1740, 1740), (1741, -1741), (-1760, 1760), (1761, -1761), (-1780, 1780), (1781, -1781), (-1800, 1800), (1801, -1801), (-1820, 1820), (1821, -1821), (-1840, 1840), (1841, -1841), (-1860, 1860), (1861, -1861), (-1880, 1880), (1881, -1881), (-1900, 1900), (1901, -1901), (-1920, 1920), (1921, -1921), (-1940, 1940), (1941, -1941), (-1960, 1960), (1961, -1961), (-1980, 1980), (1981, -1981), (-2000, 2000), (2001, -2001), (-2020, 2020), (2021, -2021), (-2040, 2040), (2041, -2041), (-2060, 2060), (2061, -2061), (-2080, 2080), (2081, -2081), (-2100, 2100), (2101, -2101), (-2120, 2120), (2121, -2121), (-2140, 2140), (2141, -2141), (-2160, 2160), (2161, -2161), (-2180, 2180), (2181, -2181), (-2200, 2200), (2201, -2201), (-2220, 2220), (2221, -2221), (-2240, 2240), (2241, -2241), (-2260, 2260), (2261, -2261), (-2280, 2280), (2281, -2281), (-2300, 2300), (2301, -2301), (-2320, 2320), (2321, -2321), (-2340, 2340), (2341, -2341), (-2360, 2360), (2361, -2361), (-2380, 2380), (2381, -2381), (-2400, 2400), (2401, -2401), (-2420, 2420), (2421, -2421), (-2440, 2440), (2441, -2441), (-2460, 2460), (2461, -2461), (-2480, 2480), (2481, -2481), (-2500, 2500), (2501, -2501), (-2520, 2520), (2521, -2521), (-2540, 2540), (2541, -2541), (-2560, 2560), (2561, -2561), (-2580, 2580), (2581, -2581), (-2600, 2600), (2601, -2601), (-2620, 2620), (2621, -2621), (-2640, 2640), (2641, -2641), (-2660, 2660), (2661, -2661), (-2680, 2680), (2681, -2681), (-2700, 2700), (2701, -2701), (-2720, 2720), (2721, -2721), (-2740, 2740), (2741, -2741), (-2760, 2760), (2761, -2761), (-2780, 2780), (2781, -2781), (-2800, 2800), (2801, -2801), (-2820, 2820), (2821, -2821), (-2840, 2840), (2841, -2841), (-2860, 2860), (2861, -2861), (-2880, 2880), (2881, -2881), (-2900, 2900), (2901, -2901), (-2920, 2920), (2921, -2921), (-2940, 2940), (2941, -2941), (-2960, 2960), (2961, -2961), (-2980, 2980), (2981, -2981), (-3000, 3000), (3001, -3001), (-3020, 3020), (3021, -3021), (-3040, 3040), (3041, -3041), (-3060, 3060), (3061, -3061), (-3080, 3080), (3081, -3081), (-3100, 3100), (3101, -3101), (-3120, 3120), (3121, -3121), (-3140, 3140), (3141, -3141), (-3160, 3160), (3161, -3161), (-3180, 3180), (3181, -3181), (-3200, 3200), (3201, -3201), (-3220, 3220), (3221, -3221), (-3240, 3240), (3241, -3241), (-3260, 3260), (3261, -3261), (-3280, 3280), (3281, -3281), (-3300, 3300), (3301, -3301), (-3320, 3320), (3321, -3321), (-3340, 3340), (3341, -3341), (-3360, 3360), (3361, -3361), (-3380, 3380), (3381, -3381), (-3400, 3400), (3401, -3401), (-3420, 3420), (3421, -3421), (-3440, 3440), (3441, -3441), (-3460, 3460), (3461, -3461), (-3480, 3480), (3481, -3481), (-3500, 3500), (3501, -3501), (-3520, 3520), (3521, -3521), (-3540, 3540), (3541, -3541), (-3560, 3560), (3561, -3561), (-3580, 3580), (3581, -3581), (-3600, 3600), (3601, -3601), (-3620, 3620), (3621, -3621), (-3640, 3640), (3641, -3641), (-3660, 3660), (3661, -3661), (-3680, 3680), (3681, -3681), (-3700, 3700), (3701, -3701), (-3720, 3720), (3721, -3721), (-3740, 3740), (3741, -3741), (-3760, 3760), (3761, -3761), (-3780, 3780), (3781, -3781), (-3800, 3800), (3801, -3801), (-3820, 3820), (3821, -3821), (-3840, 3840), (3841, -3841), (-3860, 3860), (3861, -3861), (-3880, 3880), (3881, -3881), (-3900, 3900), (3901, -3901), (-3920, 3920), (3921, -3921), (-3940, 3940), (3941, -3941), (-3960, 3960), (3961, -3961), (-3980, 3980), (3981, -3981), (-4000, 4000), (4001, -4001), (-4020, 4020), (4021, -4021), (-4040, 4040), (4041, -4041), (-4060, 4060), (4061, -4061), (-4080, 4080), (4081, -4081), (-4100, 4100), (4101, -4101), (-4120, 4120), (4121, -4121), (-4140, 4140), (4141, -4141), (-4160, 4160), (4161, -4161), (-4180, 4180), (4181, -4181), (-4200, 4200), (4201, -4201), (-4220, 4220), (4221, -4221), (-4240, 4240), (4241, -4241), (-4260, 4260), (4261, -4261), (-4280, 4280), (4281, -4281), (-4300, 4300), (4301, -4301), (-4320, 4320), (4321, -4321), (-4340, 4340), (4341, -4341), (-4360, 4360), (4361, -4361), (-4380, 4380), (4381, -4381), (-4400, 4400), (4401, -4401), (-4420, 4420), (4421, -4421), (-4440, 4440), (4441, -4441), (-4460, 4460), (4461, -4461), (-4480, 4480), (4481, -4481), (-4500, 4500), (4501, -4501), (-4520, 4520), (4521, -4521), (-4540, 4540), (4541, -4541), (-4560, 4560), (4561, -4561), (-4580, 4580), (4581, -4581), (-4600, 4600), (4601, -4601), (-4620, 4620), (4621, -4621), (-4640, 4640), (4641, -4641), (-4660, 4660), (4661, -4661), (-4680, 4680), (4681, -4681), (-4700, 4700), (4701, -4701), (-4720, 4720), (4721, -4721), (-4740, 4740), (4741, -4741), (-4760, 4760), (4761, -4761), (-4780, 4780), (4781, -4781), (-4800, 4800)]\n"
     ]
    }
   ],
   "source": [
    "print(instructions)\n",
    "# put into a csv called spiral_v1_instructions.csv\n",
    "import csv\n",
    "\n",
    "with open(\"spiral_v1_instructions.csv\", \"w\") as f:\n",
    "    writer = csv.writer(f)\n",
    "    # writer.writerow([\"x\", \"y\"])\n",
    "    for instruction in instructions:\n",
    "        writer.writerow(instruction)"
   ]
  },
  {
   "cell_type": "code",
   "execution_count": 1,
   "metadata": {},
   "outputs": [
    {
     "ename": "Terminator",
     "evalue": "",
     "output_type": "error",
     "traceback": [
      "\u001b[0;31m---------------------------------------------------------------------------\u001b[0m",
      "\u001b[0;31mTerminator\u001b[0m                                Traceback (most recent call last)",
      "\u001b[0;32m<ipython-input-1-ced5fa533cef>\u001b[0m in \u001b[0;36m<module>\u001b[0;34m\u001b[0m\n\u001b[1;32m     17\u001b[0m     \u001b[0mx\u001b[0m \u001b[0;34m=\u001b[0m \u001b[0mint\u001b[0m\u001b[0;34m(\u001b[0m\u001b[0mx\u001b[0m\u001b[0;34m)\u001b[0m\u001b[0;34m\u001b[0m\u001b[0;34m\u001b[0m\u001b[0m\n\u001b[1;32m     18\u001b[0m     \u001b[0my\u001b[0m \u001b[0;34m=\u001b[0m \u001b[0mint\u001b[0m\u001b[0;34m(\u001b[0m\u001b[0my\u001b[0m\u001b[0;34m)\u001b[0m\u001b[0;34m\u001b[0m\u001b[0;34m\u001b[0m\u001b[0m\n\u001b[0;32m---> 19\u001b[0;31m     \u001b[0mdraw_line\u001b[0m\u001b[0;34m(\u001b[0m\u001b[0mx\u001b[0m\u001b[0;34m,\u001b[0m \u001b[0my\u001b[0m\u001b[0;34m,\u001b[0m \u001b[0mx\u001b[0m\u001b[0;34m+\u001b[0m\u001b[0;36m1\u001b[0m\u001b[0;34m,\u001b[0m \u001b[0my\u001b[0m\u001b[0;34m+\u001b[0m\u001b[0;36m1\u001b[0m\u001b[0;34m)\u001b[0m  \u001b[0;31m# Use x+1 and y+1 to draw a tiny dot at each point\u001b[0m\u001b[0;34m\u001b[0m\u001b[0;34m\u001b[0m\u001b[0m\n\u001b[0m\u001b[1;32m     20\u001b[0m \u001b[0;34m\u001b[0m\u001b[0m\n\u001b[1;32m     21\u001b[0m \u001b[0;31m# Hide the turtle when finished\u001b[0m\u001b[0;34m\u001b[0m\u001b[0;34m\u001b[0m\u001b[0;34m\u001b[0m\u001b[0m\n",
      "\u001b[0;32m<ipython-input-1-ced5fa533cef>\u001b[0m in \u001b[0;36mdraw_line\u001b[0;34m(x1, y1, x2, y2)\u001b[0m\n\u001b[1;32m      4\u001b[0m \u001b[0;32mdef\u001b[0m \u001b[0mdraw_line\u001b[0m\u001b[0;34m(\u001b[0m\u001b[0mx1\u001b[0m\u001b[0;34m,\u001b[0m \u001b[0my1\u001b[0m\u001b[0;34m,\u001b[0m \u001b[0mx2\u001b[0m\u001b[0;34m,\u001b[0m \u001b[0my2\u001b[0m\u001b[0;34m)\u001b[0m\u001b[0;34m:\u001b[0m\u001b[0;34m\u001b[0m\u001b[0;34m\u001b[0m\u001b[0m\n\u001b[1;32m      5\u001b[0m     \u001b[0mturtle\u001b[0m\u001b[0;34m.\u001b[0m\u001b[0mpenup\u001b[0m\u001b[0;34m(\u001b[0m\u001b[0;34m)\u001b[0m\u001b[0;34m\u001b[0m\u001b[0;34m\u001b[0m\u001b[0m\n\u001b[0;32m----> 6\u001b[0;31m     \u001b[0mturtle\u001b[0m\u001b[0;34m.\u001b[0m\u001b[0mgoto\u001b[0m\u001b[0;34m(\u001b[0m\u001b[0mx1\u001b[0m\u001b[0;34m,\u001b[0m \u001b[0my1\u001b[0m\u001b[0;34m)\u001b[0m\u001b[0;34m\u001b[0m\u001b[0;34m\u001b[0m\u001b[0m\n\u001b[0m\u001b[1;32m      7\u001b[0m     \u001b[0mturtle\u001b[0m\u001b[0;34m.\u001b[0m\u001b[0mpendown\u001b[0m\u001b[0;34m(\u001b[0m\u001b[0;34m)\u001b[0m\u001b[0;34m\u001b[0m\u001b[0;34m\u001b[0m\u001b[0m\n\u001b[1;32m      8\u001b[0m     \u001b[0mturtle\u001b[0m\u001b[0;34m.\u001b[0m\u001b[0mgoto\u001b[0m\u001b[0;34m(\u001b[0m\u001b[0mx2\u001b[0m\u001b[0;34m,\u001b[0m \u001b[0my2\u001b[0m\u001b[0;34m)\u001b[0m\u001b[0;34m\u001b[0m\u001b[0;34m\u001b[0m\u001b[0m\n",
      "\u001b[0;32m/usr/local/anaconda3/lib/python3.8/turtle.py\u001b[0m in \u001b[0;36mgoto\u001b[0;34m(x, y)\u001b[0m\n",
      "\u001b[0;32m/usr/local/anaconda3/lib/python3.8/turtle.py\u001b[0m in \u001b[0;36mgoto\u001b[0;34m(self, x, y)\u001b[0m\n\u001b[1;32m   1775\u001b[0m             \u001b[0mself\u001b[0m\u001b[0;34m.\u001b[0m\u001b[0m_goto\u001b[0m\u001b[0;34m(\u001b[0m\u001b[0mVec2D\u001b[0m\u001b[0;34m(\u001b[0m\u001b[0;34m*\u001b[0m\u001b[0mx\u001b[0m\u001b[0;34m)\u001b[0m\u001b[0;34m)\u001b[0m\u001b[0;34m\u001b[0m\u001b[0;34m\u001b[0m\u001b[0m\n\u001b[1;32m   1776\u001b[0m         \u001b[0;32melse\u001b[0m\u001b[0;34m:\u001b[0m\u001b[0;34m\u001b[0m\u001b[0;34m\u001b[0m\u001b[0m\n\u001b[0;32m-> 1777\u001b[0;31m             \u001b[0mself\u001b[0m\u001b[0;34m.\u001b[0m\u001b[0m_goto\u001b[0m\u001b[0;34m(\u001b[0m\u001b[0mVec2D\u001b[0m\u001b[0;34m(\u001b[0m\u001b[0mx\u001b[0m\u001b[0;34m,\u001b[0m \u001b[0my\u001b[0m\u001b[0;34m)\u001b[0m\u001b[0;34m)\u001b[0m\u001b[0;34m\u001b[0m\u001b[0;34m\u001b[0m\u001b[0m\n\u001b[0m\u001b[1;32m   1778\u001b[0m \u001b[0;34m\u001b[0m\u001b[0m\n\u001b[1;32m   1779\u001b[0m     \u001b[0;32mdef\u001b[0m \u001b[0mhome\u001b[0m\u001b[0;34m(\u001b[0m\u001b[0mself\u001b[0m\u001b[0;34m)\u001b[0m\u001b[0;34m:\u001b[0m\u001b[0;34m\u001b[0m\u001b[0;34m\u001b[0m\u001b[0m\n",
      "\u001b[0;32m/usr/local/anaconda3/lib/python3.8/turtle.py\u001b[0m in \u001b[0;36m_goto\u001b[0;34m(self, end)\u001b[0m\n\u001b[1;32m   3178\u001b[0m                                      \u001b[0;34m(\u001b[0m\u001b[0mstart\u001b[0m\u001b[0;34m,\u001b[0m \u001b[0mself\u001b[0m\u001b[0;34m.\u001b[0m\u001b[0m_position\u001b[0m\u001b[0;34m)\u001b[0m\u001b[0;34m,\u001b[0m\u001b[0;34m\u001b[0m\u001b[0;34m\u001b[0m\u001b[0m\n\u001b[1;32m   3179\u001b[0m                                      self._pencolor, self._pensize, top)\n\u001b[0;32m-> 3180\u001b[0;31m                 \u001b[0mself\u001b[0m\u001b[0;34m.\u001b[0m\u001b[0m_update\u001b[0m\u001b[0;34m(\u001b[0m\u001b[0;34m)\u001b[0m\u001b[0;34m\u001b[0m\u001b[0;34m\u001b[0m\u001b[0m\n\u001b[0m\u001b[1;32m   3181\u001b[0m             \u001b[0;32mif\u001b[0m \u001b[0mself\u001b[0m\u001b[0;34m.\u001b[0m\u001b[0m_drawing\u001b[0m\u001b[0;34m:\u001b[0m\u001b[0;34m\u001b[0m\u001b[0;34m\u001b[0m\u001b[0m\n\u001b[1;32m   3182\u001b[0m                 screen._drawline(self.drawingLineItem, ((0, 0), (0, 0)),\n",
      "\u001b[0;32m/usr/local/anaconda3/lib/python3.8/turtle.py\u001b[0m in \u001b[0;36m_update\u001b[0;34m(self)\u001b[0m\n\u001b[1;32m   2659\u001b[0m             \u001b[0;32mreturn\u001b[0m\u001b[0;34m\u001b[0m\u001b[0;34m\u001b[0m\u001b[0m\n\u001b[1;32m   2660\u001b[0m         \u001b[0;32melif\u001b[0m \u001b[0mscreen\u001b[0m\u001b[0;34m.\u001b[0m\u001b[0m_tracing\u001b[0m \u001b[0;34m==\u001b[0m \u001b[0;36m1\u001b[0m\u001b[0;34m:\u001b[0m\u001b[0;34m\u001b[0m\u001b[0;34m\u001b[0m\u001b[0m\n\u001b[0;32m-> 2661\u001b[0;31m             \u001b[0mself\u001b[0m\u001b[0;34m.\u001b[0m\u001b[0m_update_data\u001b[0m\u001b[0;34m(\u001b[0m\u001b[0;34m)\u001b[0m\u001b[0;34m\u001b[0m\u001b[0;34m\u001b[0m\u001b[0m\n\u001b[0m\u001b[1;32m   2662\u001b[0m             \u001b[0mself\u001b[0m\u001b[0;34m.\u001b[0m\u001b[0m_drawturtle\u001b[0m\u001b[0;34m(\u001b[0m\u001b[0;34m)\u001b[0m\u001b[0;34m\u001b[0m\u001b[0;34m\u001b[0m\u001b[0m\n\u001b[1;32m   2663\u001b[0m             \u001b[0mscreen\u001b[0m\u001b[0;34m.\u001b[0m\u001b[0m_update\u001b[0m\u001b[0;34m(\u001b[0m\u001b[0;34m)\u001b[0m                  \u001b[0;31m# TurtleScreenBase\u001b[0m\u001b[0;34m\u001b[0m\u001b[0;34m\u001b[0m\u001b[0m\n",
      "\u001b[0;32m/usr/local/anaconda3/lib/python3.8/turtle.py\u001b[0m in \u001b[0;36m_update_data\u001b[0;34m(self)\u001b[0m\n\u001b[1;32m   2645\u001b[0m \u001b[0;34m\u001b[0m\u001b[0m\n\u001b[1;32m   2646\u001b[0m     \u001b[0;32mdef\u001b[0m \u001b[0m_update_data\u001b[0m\u001b[0;34m(\u001b[0m\u001b[0mself\u001b[0m\u001b[0;34m)\u001b[0m\u001b[0;34m:\u001b[0m\u001b[0;34m\u001b[0m\u001b[0;34m\u001b[0m\u001b[0m\n\u001b[0;32m-> 2647\u001b[0;31m         \u001b[0mself\u001b[0m\u001b[0;34m.\u001b[0m\u001b[0mscreen\u001b[0m\u001b[0;34m.\u001b[0m\u001b[0m_incrementudc\u001b[0m\u001b[0;34m(\u001b[0m\u001b[0;34m)\u001b[0m\u001b[0;34m\u001b[0m\u001b[0;34m\u001b[0m\u001b[0m\n\u001b[0m\u001b[1;32m   2648\u001b[0m         \u001b[0;32mif\u001b[0m \u001b[0mself\u001b[0m\u001b[0;34m.\u001b[0m\u001b[0mscreen\u001b[0m\u001b[0;34m.\u001b[0m\u001b[0m_updatecounter\u001b[0m \u001b[0;34m!=\u001b[0m \u001b[0;36m0\u001b[0m\u001b[0;34m:\u001b[0m\u001b[0;34m\u001b[0m\u001b[0;34m\u001b[0m\u001b[0m\n\u001b[1;32m   2649\u001b[0m             \u001b[0;32mreturn\u001b[0m\u001b[0;34m\u001b[0m\u001b[0;34m\u001b[0m\u001b[0m\n",
      "\u001b[0;32m/usr/local/anaconda3/lib/python3.8/turtle.py\u001b[0m in \u001b[0;36m_incrementudc\u001b[0;34m(self)\u001b[0m\n\u001b[1;32m   1291\u001b[0m         \u001b[0;32mif\u001b[0m \u001b[0;32mnot\u001b[0m \u001b[0mTurtleScreen\u001b[0m\u001b[0;34m.\u001b[0m\u001b[0m_RUNNING\u001b[0m\u001b[0;34m:\u001b[0m\u001b[0;34m\u001b[0m\u001b[0;34m\u001b[0m\u001b[0m\n\u001b[1;32m   1292\u001b[0m             \u001b[0mTurtleScreen\u001b[0m\u001b[0;34m.\u001b[0m\u001b[0m_RUNNING\u001b[0m \u001b[0;34m=\u001b[0m \u001b[0;32mTrue\u001b[0m\u001b[0;34m\u001b[0m\u001b[0;34m\u001b[0m\u001b[0m\n\u001b[0;32m-> 1293\u001b[0;31m             \u001b[0;32mraise\u001b[0m \u001b[0mTerminator\u001b[0m\u001b[0;34m\u001b[0m\u001b[0;34m\u001b[0m\u001b[0m\n\u001b[0m\u001b[1;32m   1294\u001b[0m         \u001b[0;32mif\u001b[0m \u001b[0mself\u001b[0m\u001b[0;34m.\u001b[0m\u001b[0m_tracing\u001b[0m \u001b[0;34m>\u001b[0m \u001b[0;36m0\u001b[0m\u001b[0;34m:\u001b[0m\u001b[0;34m\u001b[0m\u001b[0;34m\u001b[0m\u001b[0m\n\u001b[1;32m   1295\u001b[0m             \u001b[0mself\u001b[0m\u001b[0;34m.\u001b[0m\u001b[0m_updatecounter\u001b[0m \u001b[0;34m+=\u001b[0m \u001b[0;36m1\u001b[0m\u001b[0;34m\u001b[0m\u001b[0;34m\u001b[0m\u001b[0m\n",
      "\u001b[0;31mTerminator\u001b[0m: "
     ]
    }
   ],
   "source": [
    "import turtle\n",
    "\n",
    "# Define the function to draw a line between two points\n",
    "def draw_line(x1, y1, x2, y2):\n",
    "    turtle.penup()\n",
    "    turtle.goto(x1, y1)\n",
    "    turtle.pendown()\n",
    "    turtle.goto(x2, y2)\n",
    "\n",
    "# Open the CSV file and read the coordinates\n",
    "with open('spiral_v1_instructions.csv', 'r') as f:\n",
    "    lines = f.readlines()\n",
    "\n",
    "# Loop through the lines and draw the lines between the points\n",
    "for line in lines:\n",
    "    x, y = line.strip().split(',')\n",
    "    x = int(x)\n",
    "    y = int(y)\n",
    "    draw_line(x, y, x+1, y+1)  # Use x+1 and y+1 to draw a tiny dot at each point\n",
    "\n",
    "# Hide the turtle when finished\n",
    "turtle.hideturtle()\n",
    "\n",
    "# Wait for the user to close the window\n",
    "turtle.done()\n"
   ]
  }
 ],
 "metadata": {
  "kernelspec": {
   "display_name": "base",
   "language": "python",
   "name": "python3"
  },
  "language_info": {
   "codemirror_mode": {
    "name": "ipython",
    "version": 3
   },
   "file_extension": ".py",
   "mimetype": "text/x-python",
   "name": "python",
   "nbconvert_exporter": "python",
   "pygments_lexer": "ipython3",
   "version": "3.8.8"
  },
  "orig_nbformat": 4
 },
 "nbformat": 4,
 "nbformat_minor": 2
}
